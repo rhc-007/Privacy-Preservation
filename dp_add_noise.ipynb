{
 "cells": [
  {
   "cell_type": "code",
   "execution_count": null,
   "metadata": {},
   "outputs": [
    {
     "name": "stdout",
     "output_type": "stream",
     "text": [
      "Noisy datasets saved successfully!\n"
     ]
    }
   ],
   "source": [
    "import numpy as np\n",
    "import pandas as pd\n",
    "\n",
    "df = pd.read_csv(\"synthetic_data.csv\")\n",
    "\n",
    "numerical_features = [\"Age\", \"HoursPerWeek\", \"CapitalGain\", \"CapitalLoss\"]\n",
    "\n",
    "epsilon = 0.005 \n",
    "delta = 1e-6   \n",
    "sensitivity = 1\n",
    "\n",
    "laplace_scale = sensitivity / epsilon\n",
    "df_laplace = df.copy()\n",
    "df_laplace[numerical_features] += np.random.laplace(0, laplace_scale, df[numerical_features].shape)\n",
    "\n",
    "gaussian_std_dev = (sensitivity * np.sqrt(2 * np.log(1.25 / delta))) / epsilon\n",
    "df_gaussian = df.copy()\n",
    "df_gaussian[numerical_features] += np.random.normal(0, gaussian_std_dev, df[numerical_features].shape)\n",
    "\n",
    "df_laplace.to_csv(\"dataset_with_laplace_noise.csv\", index=False)\n",
    "df_gaussian.to_csv(\"dataset_with_gaussian_noise.csv\", index=False)\n",
    "\n",
    "print(\"Noisy datasets saved successfully!\")\n"
   ]
  }
 ],
 "metadata": {
  "kernelspec": {
   "display_name": "Python 3",
   "language": "python",
   "name": "python3"
  },
  "language_info": {
   "codemirror_mode": {
    "name": "ipython",
    "version": 3
   },
   "file_extension": ".py",
   "mimetype": "text/x-python",
   "name": "python",
   "nbconvert_exporter": "python",
   "pygments_lexer": "ipython3",
   "version": "3.12.9"
  }
 },
 "nbformat": 4,
 "nbformat_minor": 2
}
